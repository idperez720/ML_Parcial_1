{
 "cells": [
  {
   "cell_type": "markdown",
   "id": "2390063b-effd-47f4-9f6f-11960dfa8703",
   "metadata": {
    "tags": []
   },
   "source": [
    "# Machine Learning Parcial 1: Clasificador Binario\n",
    "Ivan Perez - \\\n",
    "John Guzman - 201713338\n",
    "\n",
    "## Funciones y Librerias\n",
    "### Importe de librerias"
   ]
  },
  {
   "cell_type": "code",
   "execution_count": 1,
   "id": "c2774244-0252-4b8d-9490-ce92f07453bb",
   "metadata": {},
   "outputs": [],
   "source": [
    "import pandas as pd\n",
    "import numpy as np\n",
    "import seaborn as sns\n",
    "import matplotlib.pyplot as plt\n",
    "import itertools\n",
    "\n",
    "import warnings\n",
    "warnings.filterwarnings('ignore')\n",
    "\n",
    "from sklearn.model_selection import train_test_split, StratifiedKFold, GridSearchCV\n",
    "from sklearn.preprocessing import StandardScaler\n",
    "\n",
    "from sklearn.metrics import accuracy_score, confusion_matrix, recall_score, precision_score\n",
    "from sklearn.linear_model import LogisticRegression\n",
    "from sklearn.neural_network import MLPClassifier"
   ]
  },
  {
   "cell_type": "markdown",
   "id": "fe521b7a-2240-4a54-b0fb-2944286bf9da",
   "metadata": {
    "tags": []
   },
   "source": [
    "### Funciones auxiliares"
   ]
  },
  {
   "cell_type": "code",
   "execution_count": 2,
   "id": "c9b003af-aa0c-4bcf-bbed-4cda59ae4b9e",
   "metadata": {},
   "outputs": [],
   "source": [
    "## Calculo de los IV (Funcion sacada de https://www.kaggle.com/code/puremath86/iv-woe-starter-for-python/notebook)\n",
    "def calc_iv(df, feature, target, pr=False):\n",
    "    lst = []\n",
    "    df[feature] = df[feature].fillna(\"NULL\")\n",
    "\n",
    "    for i in range(df[feature].nunique()):\n",
    "        val = list(df[feature].unique())[i]\n",
    "        lst.append([feature,                                                        # Variable\n",
    "                    val,                                                            # Value\n",
    "                    df[df[feature] == val].count()[feature],                        # All\n",
    "                    df[(df[feature] == val) & (df[target] == 0)].count()[feature],  # Good (think: Fraud == 0)\n",
    "                    df[(df[feature] == val) & (df[target] == 1)].count()[feature]]) # Bad (think: Fraud == 1)\n",
    "\n",
    "    data = pd.DataFrame(lst, columns=['Variable', 'Value', 'All', 'Good', 'Bad'])\n",
    "    data['Share'] = data['All'] / data['All'].sum()\n",
    "    data['Bad Rate'] = data['Bad'] / data['All']\n",
    "    data['Distribution Good'] = (data['All'] - data['Bad']) / (data['All'].sum() - data['Bad'].sum())\n",
    "    data['Distribution Bad'] = data['Bad'] / data['Bad'].sum()\n",
    "    data['WoE'] = np.log(data['Distribution Good'] / data['Distribution Bad'])\n",
    "    \n",
    "    data = data.replace({'WoE': {np.inf: 0, -np.inf: 0}})\n",
    "\n",
    "    data['IV'] = data['WoE'] * (data['Distribution Good'] - data['Distribution Bad'])\n",
    "\n",
    "    data = data.sort_values(by=['Variable', 'Value'], ascending=[True, True])\n",
    "    data.index = range(len(data.index))\n",
    "\n",
    "    if pr:\n",
    "        print(data)\n",
    "        print('IV = ', data['IV'].sum())\n",
    "\n",
    "    iv = data['IV'].sum()\n",
    "    #print('El IV de esta variable es:',iv)\n",
    "    #print(df[feature].value_counts())\n",
    "    return iv, data"
   ]
  },
  {
   "cell_type": "code",
   "execution_count": 3,
   "id": "3ef468fa-932e-42e1-8a27-1a5c9b82c55a",
   "metadata": {},
   "outputs": [],
   "source": [
    "def plot_confusion_matrix(cm, classes,\n",
    "                          normalize=False,\n",
    "                          title='Confusion matrix',\n",
    "                          cmap=plt.cm.Blues):\n",
    "    if normalize:\n",
    "        cm = cm.astype('float') / cm.sum(axis=1)[:, np.newaxis]\n",
    "        \n",
    "\n",
    "    plt.imshow(cm, interpolation='nearest', cmap=cmap)\n",
    "    plt.title(title)\n",
    "    plt.colorbar()\n",
    "    tick_marks = np.arange(len(classes))\n",
    "    plt.xticks(tick_marks, classes)\n",
    "    plt.yticks(tick_marks, classes)\n",
    "\n",
    "    fmt = '.2f' if normalize else 'd'\n",
    "    thresh = cm.max() / 2.\n",
    "    for i, j in itertools.product(range(cm.shape[0]), range(cm.shape[1])):\n",
    "        plt.text(j, i, format(cm[i, j], fmt),\n",
    "                 horizontalalignment=\"center\",\n",
    "                 color=\"white\" if cm[i, j] > thresh else \"black\")\n",
    "\n",
    "    plt.tight_layout()\n",
    "    plt.ylabel('Etiqueta')\n",
    "    plt.xlabel('Predicción')"
   ]
  },
  {
   "cell_type": "code",
   "execution_count": 4,
   "id": "77a3d63e-97ee-4f87-a452-3a68623e8eb9",
   "metadata": {},
   "outputs": [],
   "source": [
    "def get_category(df, col, binsnum, labels, qcut = False):\n",
    "    if qcut:\n",
    "        localdf = pd.qcut(df[col], q = binsnum, labels = labels) # quantile cut\n",
    "    else:\n",
    "        localdf = pd.cut(df[col], bins = binsnum, labels = labels) # equal-length cut\n",
    "        \n",
    "    localdf = pd.DataFrame(localdf)\n",
    "    name = 'gp' + '_' + col\n",
    "    localdf[name] = localdf[col]\n",
    "    df = df.join(localdf[name])\n",
    "    df[name] = df[name].astype(object)\n",
    "    return df"
   ]
  },
  {
   "cell_type": "code",
   "execution_count": 5,
   "id": "d300ca6f-61f5-4fa3-b626-809755ce9526",
   "metadata": {},
   "outputs": [],
   "source": [
    "# Codificación One-Hot\n",
    "def convert_dummy(df, feature,rank=0):\n",
    "    pos = pd.get_dummies(df[feature], prefix=feature)\n",
    "    mode = df[feature].value_counts().index[rank]\n",
    "    biggest = feature + '_' + str(mode)\n",
    "    #pos.drop([biggest],axis=1,inplace=True)\n",
    "    df.drop([feature],axis=1,inplace=True)\n",
    "    df=df.join(pos)\n",
    "    return df"
   ]
  },
  {
   "cell_type": "markdown",
   "id": "29438c91-037d-400e-b8ba-229d72c45e29",
   "metadata": {
    "tags": []
   },
   "source": [
    "## Preprocesamiento"
   ]
  },
  {
   "cell_type": "code",
   "execution_count": 6,
   "id": "159e8efd-4fdd-4d9d-a754-fed14cda6f55",
   "metadata": {},
   "outputs": [],
   "source": [
    "# Se obtienen los datos de los archivos de texto plano\n",
    "xtrain = pd.read_csv(\"xtrain.txt\", sep=\"   \", header=None, engine='python')\n",
    "ytrain = pd.read_csv(\"ytrain.txt\", sep=\"   \", header=None, engine='python')"
   ]
  },
  {
   "cell_type": "code",
   "execution_count": 7,
   "id": "8cfcef60-79c2-47e9-b8ca-209377d816dd",
   "metadata": {},
   "outputs": [
    {
     "data": {
      "text/html": [
       "<div>\n",
       "<style scoped>\n",
       "    .dataframe tbody tr th:only-of-type {\n",
       "        vertical-align: middle;\n",
       "    }\n",
       "\n",
       "    .dataframe tbody tr th {\n",
       "        vertical-align: top;\n",
       "    }\n",
       "\n",
       "    .dataframe thead th {\n",
       "        text-align: right;\n",
       "    }\n",
       "</style>\n",
       "<table border=\"1\" class=\"dataframe\">\n",
       "  <thead>\n",
       "    <tr style=\"text-align: right;\">\n",
       "      <th></th>\n",
       "      <th>A</th>\n",
       "      <th>B</th>\n",
       "      <th>C</th>\n",
       "      <th>D</th>\n",
       "      <th>E</th>\n",
       "      <th>F</th>\n",
       "      <th>G</th>\n",
       "      <th>H</th>\n",
       "      <th>I</th>\n",
       "      <th>J</th>\n",
       "      <th>K</th>\n",
       "      <th>L</th>\n",
       "      <th>M</th>\n",
       "      <th>N</th>\n",
       "      <th>O</th>\n",
       "      <th>P</th>\n",
       "      <th>class</th>\n",
       "    </tr>\n",
       "  </thead>\n",
       "  <tbody>\n",
       "    <tr>\n",
       "      <th>0</th>\n",
       "      <td>40572.0</td>\n",
       "      <td>725.331</td>\n",
       "      <td>250.71401</td>\n",
       "      <td>206.47193</td>\n",
       "      <td>1.214276</td>\n",
       "      <td>0.567264</td>\n",
       "      <td>40900.0</td>\n",
       "      <td>227.28369</td>\n",
       "      <td>0.767479</td>\n",
       "      <td>0.991980</td>\n",
       "      <td>0.969089</td>\n",
       "      <td>0.906546</td>\n",
       "      <td>0.006179</td>\n",
       "      <td>0.002574</td>\n",
       "      <td>0.821825</td>\n",
       "      <td>0.997923</td>\n",
       "      <td>1.0</td>\n",
       "    </tr>\n",
       "    <tr>\n",
       "      <th>1</th>\n",
       "      <td>38180.0</td>\n",
       "      <td>740.017</td>\n",
       "      <td>272.92339</td>\n",
       "      <td>178.76282</td>\n",
       "      <td>1.526735</td>\n",
       "      <td>0.755635</td>\n",
       "      <td>38709.0</td>\n",
       "      <td>220.48194</td>\n",
       "      <td>0.718669</td>\n",
       "      <td>0.986334</td>\n",
       "      <td>0.876118</td>\n",
       "      <td>0.807853</td>\n",
       "      <td>0.007148</td>\n",
       "      <td>0.001878</td>\n",
       "      <td>0.652626</td>\n",
       "      <td>0.996387</td>\n",
       "      <td>0.0</td>\n",
       "    </tr>\n",
       "    <tr>\n",
       "      <th>2</th>\n",
       "      <td>46827.0</td>\n",
       "      <td>808.608</td>\n",
       "      <td>300.96747</td>\n",
       "      <td>198.95893</td>\n",
       "      <td>1.512712</td>\n",
       "      <td>0.750329</td>\n",
       "      <td>47295.0</td>\n",
       "      <td>244.17614</td>\n",
       "      <td>0.781766</td>\n",
       "      <td>0.990105</td>\n",
       "      <td>0.899974</td>\n",
       "      <td>0.811304</td>\n",
       "      <td>0.006427</td>\n",
       "      <td>0.001718</td>\n",
       "      <td>0.658214</td>\n",
       "      <td>0.995688</td>\n",
       "      <td>0.0</td>\n",
       "    </tr>\n",
       "    <tr>\n",
       "      <th>3</th>\n",
       "      <td>72058.0</td>\n",
       "      <td>1035.943</td>\n",
       "      <td>397.71702</td>\n",
       "      <td>233.41022</td>\n",
       "      <td>1.703940</td>\n",
       "      <td>0.809677</td>\n",
       "      <td>73724.0</td>\n",
       "      <td>302.89783</td>\n",
       "      <td>0.764541</td>\n",
       "      <td>0.977402</td>\n",
       "      <td>0.843763</td>\n",
       "      <td>0.761591</td>\n",
       "      <td>0.005519</td>\n",
       "      <td>0.001145</td>\n",
       "      <td>0.580021</td>\n",
       "      <td>0.988322</td>\n",
       "      <td>1.0</td>\n",
       "    </tr>\n",
       "    <tr>\n",
       "      <th>4</th>\n",
       "      <td>80886.0</td>\n",
       "      <td>1136.801</td>\n",
       "      <td>391.65449</td>\n",
       "      <td>263.80113</td>\n",
       "      <td>1.484658</td>\n",
       "      <td>0.739136</td>\n",
       "      <td>82299.0</td>\n",
       "      <td>320.91627</td>\n",
       "      <td>0.719492</td>\n",
       "      <td>0.982831</td>\n",
       "      <td>0.786528</td>\n",
       "      <td>0.819386</td>\n",
       "      <td>0.004842</td>\n",
       "      <td>0.001346</td>\n",
       "      <td>0.671394</td>\n",
       "      <td>0.996790</td>\n",
       "      <td>1.0</td>\n",
       "    </tr>\n",
       "  </tbody>\n",
       "</table>\n",
       "</div>"
      ],
      "text/plain": [
       "         A         B          C          D         E         F        G  \\\n",
       "0  40572.0   725.331  250.71401  206.47193  1.214276  0.567264  40900.0   \n",
       "1  38180.0   740.017  272.92339  178.76282  1.526735  0.755635  38709.0   \n",
       "2  46827.0   808.608  300.96747  198.95893  1.512712  0.750329  47295.0   \n",
       "3  72058.0  1035.943  397.71702  233.41022  1.703940  0.809677  73724.0   \n",
       "4  80886.0  1136.801  391.65449  263.80113  1.484658  0.739136  82299.0   \n",
       "\n",
       "           H         I         J         K         L         M         N  \\\n",
       "0  227.28369  0.767479  0.991980  0.969089  0.906546  0.006179  0.002574   \n",
       "1  220.48194  0.718669  0.986334  0.876118  0.807853  0.007148  0.001878   \n",
       "2  244.17614  0.781766  0.990105  0.899974  0.811304  0.006427  0.001718   \n",
       "3  302.89783  0.764541  0.977402  0.843763  0.761591  0.005519  0.001145   \n",
       "4  320.91627  0.719492  0.982831  0.786528  0.819386  0.004842  0.001346   \n",
       "\n",
       "          O         P  class  \n",
       "0  0.821825  0.997923    1.0  \n",
       "1  0.652626  0.996387    0.0  \n",
       "2  0.658214  0.995688    0.0  \n",
       "3  0.580021  0.988322    1.0  \n",
       "4  0.671394  0.996790    1.0  "
      ]
     },
     "execution_count": 7,
     "metadata": {},
     "output_type": "execute_result"
    }
   ],
   "source": [
    "# Creo un dataframe donde agrego la etiqueta de cada dato\n",
    "data_labeled = xtrain.copy()\n",
    "data_labeled.columns = [\"A\", \"B\", \"C\", \"D\", \"E\", \"F\", \"G\", \"H\", \"I\", \"J\", \"K\", \"L\", \"M\",  \"N\", \"O\", \"P\"]\n",
    "data_labeled[\"class\"] = ytrain\n",
    "data_labeled.head()"
   ]
  },
  {
   "cell_type": "code",
   "execution_count": 8,
   "id": "a4c95e11-c133-4871-bb51-49cfff885796",
   "metadata": {},
   "outputs": [],
   "source": [
    "#Se agregan las etiquetas a los datos de entrenamiento\n",
    "xtrain.columns = [\"A\", \"B\", \"C\", \"D\", \"E\", \"F\", \"G\", \"H\", \"I\", \"J\", \"K\", \"L\", \"M\",  \"N\", \"O\", \"P\"]"
   ]
  },
  {
   "cell_type": "code",
   "execution_count": 9,
   "id": "134595d3-88e7-4475-98dd-60dad5268206",
   "metadata": {},
   "outputs": [],
   "source": [
    "#Se crea el data frame para guardar el calculo de los IV\n",
    "ivtable=pd.DataFrame(data_labeled.columns,columns=['variable'])\n",
    "ivtable['IV']=None\n",
    "ivtable.drop(ivtable[ivtable['variable'] == 'class'].index, inplace=True)"
   ]
  },
  {
   "cell_type": "markdown",
   "id": "b81a9f2e-eb0a-44b3-a6b6-c39ea1b8713b",
   "metadata": {
    "tags": []
   },
   "source": [
    "### Analisis de Descriptores\n",
    "Para hacer el analisis de los descriptores, primero se realizó una agrupación de cada descriptor teniendo en cuanta la repartición de los datos. Posteriormente, se hizo el calculo del Information Value (IV) de cada grupo de los descriptores, con el fin de ver los rangos más relevantes para hacer la predicción. Finalmente, se realizó la codificación one-hot de modo que se tengan los datos en limpio para posteriormente hacer la predicción con el modelo seleccionado.\n",
    "\n",
    "Adicionalmente, se verifica si el IV de un sub-grupo de un descriptor es mayor a 0.1 con el fin de guardar este descriptor para hacer la predicción."
   ]
  },
  {
   "cell_type": "code",
   "execution_count": 10,
   "id": "a92352c8-2fdf-4a36-9db6-db7bfffa06ba",
   "metadata": {},
   "outputs": [
    {
     "data": {
      "text/plain": [
       "['gp_A_low',\n",
       " 'gp_A_lowest',\n",
       " 'gp_B_medium',\n",
       " 'gp_C_low',\n",
       " 'gp_C_medium',\n",
       " 'gp_D_low',\n",
       " 'gp_D_lowest',\n",
       " 'gp_E_high',\n",
       " 'gp_E_lowest',\n",
       " 'gp_F_medium',\n",
       " 'gp_G_low',\n",
       " 'gp_G_lowest',\n",
       " 'gp_I_high',\n",
       " 'gp_I_low',\n",
       " 'gp_I_lowest',\n",
       " 'gp_L_high',\n",
       " 'gp_L_lowest',\n",
       " 'gp_L_medium',\n",
       " 'gp_M_high',\n",
       " 'gp_M_low',\n",
       " 'gp_M_medium',\n",
       " 'gp_N_high',\n",
       " 'gp_O_high',\n",
       " 'gp_O_lowest']"
      ]
     },
     "execution_count": 10,
     "metadata": {},
     "output_type": "execute_result"
    }
   ],
   "source": [
    "descriptores = []\n",
    "for col in data_labeled.columns:\n",
    "    if col != \"class\":\n",
    "        data_labeled[col] = data_labeled[col]\n",
    "        data_labeled = get_category(data_labeled,col, 5, [\"lowest\",\"low\",\"medium\",\"high\",\"highest\"])\n",
    "        col_name = 'gp_'+col\n",
    "        iv, data = calc_iv(data_labeled,col_name,'class')\n",
    "        #print(data.head())\n",
    "        ivtable.loc[ivtable['variable']==col,'IV']=iv\n",
    "        data_labeled = convert_dummy(data_labeled,col_name)\n",
    "        for index, row in data.iterrows():\n",
    "            if row['IV'] >= 0.1:\n",
    "                des_name = row['Variable'] + '_' + row['Value']\n",
    "                descriptores.append(des_name)\n",
    "descriptores"
   ]
  },
  {
   "cell_type": "code",
   "execution_count": 11,
   "id": "64a12ceb-69da-48c5-94fa-c9cb6f68e71b",
   "metadata": {},
   "outputs": [
    {
     "data": {
      "text/html": [
       "<div>\n",
       "<style scoped>\n",
       "    .dataframe tbody tr th:only-of-type {\n",
       "        vertical-align: middle;\n",
       "    }\n",
       "\n",
       "    .dataframe tbody tr th {\n",
       "        vertical-align: top;\n",
       "    }\n",
       "\n",
       "    .dataframe thead th {\n",
       "        text-align: right;\n",
       "    }\n",
       "</style>\n",
       "<table border=\"1\" class=\"dataframe\">\n",
       "  <thead>\n",
       "    <tr style=\"text-align: right;\">\n",
       "      <th></th>\n",
       "      <th>variable</th>\n",
       "      <th>IV</th>\n",
       "    </tr>\n",
       "  </thead>\n",
       "  <tbody>\n",
       "    <tr>\n",
       "      <th>12</th>\n",
       "      <td>M</td>\n",
       "      <td>4.778054</td>\n",
       "    </tr>\n",
       "    <tr>\n",
       "      <th>3</th>\n",
       "      <td>D</td>\n",
       "      <td>1.880769</td>\n",
       "    </tr>\n",
       "    <tr>\n",
       "      <th>14</th>\n",
       "      <td>O</td>\n",
       "      <td>1.85994</td>\n",
       "    </tr>\n",
       "    <tr>\n",
       "      <th>11</th>\n",
       "      <td>L</td>\n",
       "      <td>1.851856</td>\n",
       "    </tr>\n",
       "    <tr>\n",
       "      <th>4</th>\n",
       "      <td>E</td>\n",
       "      <td>1.77303</td>\n",
       "    </tr>\n",
       "    <tr>\n",
       "      <th>6</th>\n",
       "      <td>G</td>\n",
       "      <td>1.682043</td>\n",
       "    </tr>\n",
       "    <tr>\n",
       "      <th>0</th>\n",
       "      <td>A</td>\n",
       "      <td>1.663025</td>\n",
       "    </tr>\n",
       "    <tr>\n",
       "      <th>5</th>\n",
       "      <td>F</td>\n",
       "      <td>1.081257</td>\n",
       "    </tr>\n",
       "    <tr>\n",
       "      <th>1</th>\n",
       "      <td>B</td>\n",
       "      <td>0.81068</td>\n",
       "    </tr>\n",
       "    <tr>\n",
       "      <th>8</th>\n",
       "      <td>I</td>\n",
       "      <td>0.646835</td>\n",
       "    </tr>\n",
       "    <tr>\n",
       "      <th>2</th>\n",
       "      <td>C</td>\n",
       "      <td>0.349534</td>\n",
       "    </tr>\n",
       "    <tr>\n",
       "      <th>13</th>\n",
       "      <td>N</td>\n",
       "      <td>0.293217</td>\n",
       "    </tr>\n",
       "    <tr>\n",
       "      <th>10</th>\n",
       "      <td>K</td>\n",
       "      <td>0.109584</td>\n",
       "    </tr>\n",
       "    <tr>\n",
       "      <th>7</th>\n",
       "      <td>H</td>\n",
       "      <td>0.08669</td>\n",
       "    </tr>\n",
       "    <tr>\n",
       "      <th>9</th>\n",
       "      <td>J</td>\n",
       "      <td>0.07823</td>\n",
       "    </tr>\n",
       "    <tr>\n",
       "      <th>15</th>\n",
       "      <td>P</td>\n",
       "      <td>0.06285</td>\n",
       "    </tr>\n",
       "  </tbody>\n",
       "</table>\n",
       "</div>"
      ],
      "text/plain": [
       "   variable        IV\n",
       "12        M  4.778054\n",
       "3         D  1.880769\n",
       "14        O   1.85994\n",
       "11        L  1.851856\n",
       "4         E   1.77303\n",
       "6         G  1.682043\n",
       "0         A  1.663025\n",
       "5         F  1.081257\n",
       "1         B   0.81068\n",
       "8         I  0.646835\n",
       "2         C  0.349534\n",
       "13        N  0.293217\n",
       "10        K  0.109584\n",
       "7         H   0.08669\n",
       "9         J   0.07823\n",
       "15        P   0.06285"
      ]
     },
     "execution_count": 11,
     "metadata": {},
     "output_type": "execute_result"
    }
   ],
   "source": [
    "#IV de los descriptores originales\n",
    "ivtable=ivtable.sort_values(by='IV',ascending=False)\n",
    "ivtable"
   ]
  },
  {
   "cell_type": "code",
   "execution_count": 12,
   "id": "dd7a4a5b-2e34-4f5b-a740-8db70df87b81",
   "metadata": {},
   "outputs": [],
   "source": [
    "#Datos de entrenamiento con los descriptores con IV >= 0.1\n",
    "xtrain_iv = data_labeled[descriptores]"
   ]
  },
  {
   "cell_type": "markdown",
   "id": "9e525007-651d-4ecd-8567-7312f1ce6681",
   "metadata": {},
   "source": [
    "### Separación de los datos"
   ]
  },
  {
   "cell_type": "code",
   "execution_count": 13,
   "id": "14d3a6d3-091f-4f25-abb9-cf45536baee5",
   "metadata": {},
   "outputs": [],
   "source": [
    "#Separacion de los datos\n",
    "xtrain_split, xtest, ytrain_split, y_test = train_test_split(xtrain_iv, ytrain, test_size=0.3, random_state=0)"
   ]
  },
  {
   "cell_type": "markdown",
   "id": "1c6ad41e-b762-4156-9a84-f23c2394cb4c",
   "metadata": {},
   "source": [
    "## Selección de modelo\n",
    "### Selección con GridSearch\n",
    "Con el fin de buscar el modelo más apropiado para realizar la predicción sobre los datos dados, se realizó una busqueda de los hiperparametros del modelo mediante el uso de GridSearch. Para esto, se defienieron listas con los posibles hiperparametros del modelo, siendo estas tres listas: el numero de neuronas en la capa oculta ($hiden\\_layer$), la función de activación ($activation\\_list$) y el solver a usar en el modelo ($solver\\_list$). Una vez definidas estas listas se crea un diccionario ($param\\_grid$) con esta información, para pasarlo al GridSearchCV."
   ]
  },
  {
   "cell_type": "code",
   "execution_count": 14,
   "id": "aaf89790-31bf-4d8f-ba9f-3127355d35b5",
   "metadata": {},
   "outputs": [],
   "source": [
    "hiden_layer =  [(1,), (2,2), (6, 4), (10,5), (10,10), (50,50)]\n",
    "activation_list = ['identity', 'logistic', 'tanh', 'relu']\n",
    "solver_list = ['lbfgs', 'sgd', 'adam']\n",
    "param_grid = {'hidden_layer_sizes': hiden_layer, 'activation': activation_list, 'solver': solver_list}"
   ]
  },
  {
   "cell_type": "code",
   "execution_count": 15,
   "id": "49912101-76dd-4813-bc7a-da57ab39ee7c",
   "metadata": {
    "tags": []
   },
   "outputs": [
    {
     "name": "stdout",
     "output_type": "stream",
     "text": [
      "Mejores parametros: {'activation': 'tanh', 'hidden_layer_sizes': (6, 4), 'solver': 'adam'}\n",
      "Mejor cross-validation score: 0.96\n"
     ]
    }
   ],
   "source": [
    "calsificadorMLP = MLPClassifier()\n",
    "modeloMLP = GridSearchCV(calsificadorMLP, param_grid)\n",
    "modeloMLP.fit(xtrain_split,ytrain_split) \n",
    "print(\"Mejores parametros: {}\".format(modeloMLP.best_params_)) \n",
    "print(\"Mejor cross-validation score: {:.2f}\".format(modeloMLP.best_score_))"
   ]
  },
  {
   "cell_type": "markdown",
   "id": "2d43d3a8-90ba-4ff1-9f05-cd8d52cfa6ae",
   "metadata": {
    "tags": []
   },
   "source": [
    "### Prueba del modelo\n",
    "Una vez realizada la busqueda de los hiperparametros, se obtuvo que:\n",
    "- hidden_layer_sizes: (6, 4)\n",
    "- activation: tanh\n",
    "- solver: adam\n",
    "\n",
    "Por lo que se procede a crear el modelo con estos hiperparametros y a probarlo con los datos de entrenamiento separados en entrenamiento y test."
   ]
  },
  {
   "cell_type": "code",
   "execution_count": 19,
   "id": "5f9aa8bb-4fc4-4c94-b116-3abe6253e608",
   "metadata": {},
   "outputs": [
    {
     "name": "stdout",
     "output_type": "stream",
     "text": [
      "Exactitud 0.94778\n",
      "Precision 0.98721\n",
      "Sensibilidad 0.90809\n",
      "      0     1\n",
      "0  1324    16\n",
      "1   125  1235\n"
     ]
    },
    {
     "data": {
      "image/png": "[encoded data removed]",
      "text/plain": [
       "<Figure size 432x288 with 2 Axes>"
      ]
     },
     "metadata": {},
     "output_type": "display_data"
    }
   ],
   "source": [
    "model = MLPClassifier( hidden_layer_sizes=(6, 4), activation='tanh', solver='adam') # Inicialice un modelo de red neuronal con 2 capas escondidas x 20 neuronas en cada capa y función de activación ReLu #\n",
    "model.fit( xtrain_split, ytrain_split ) # Ajuste el modelo con los datos del conjunto A #\n",
    "y_predict = model.predict( xtest ) # Realice la predicción de etiquetas con los datos de prueba del conjunto A #\n",
    "\n",
    "print(f'Exactitud {round(accuracy_score(y_test, y_predict),5)}')\n",
    "print(f'Precision {round(precision_score(y_test, y_predict),5)}')\n",
    "print(f'Sensibilidad {round(recall_score(y_test, y_predict),5)}')\n",
    "print(pd.DataFrame(confusion_matrix(y_test,y_predict)))\n",
    "\n",
    "sns.set_style('white') \n",
    "class_names = ['0','1']\n",
    "\n",
    "plot_confusion_matrix(confusion_matrix(y_test,y_predict),\n",
    "                      classes=class_names, \n",
    "                      title='Matriz de Confusión Normalizada: Red Neuronal')"
   ]
  },
  {
   "cell_type": "markdown",
   "id": "b5c97679-8517-4775-82fe-714ebb259982",
   "metadata": {},
   "source": [
    "## Entrenamiento y predicción final\n",
    "Finalmente, una vez se tiene el modelo seleccionado, se procede a entrenarlo con la totalidad de los datos de entrenamiento y a realizar la predicción sobre los datos de prueba proporcionados\n",
    "\n",
    "### Preprocesamiento datos test"
   ]
  },
  {
   "cell_type": "code",
   "execution_count": 20,
   "id": "a82c843b-c224-4741-8ffe-6cb67d151bdc",
   "metadata": {},
   "outputs": [],
   "source": [
    "xtest_final = pd.read_csv(\"xtest.txt\", sep=\"   \", header=None, engine='python')"
   ]
  },
  {
   "cell_type": "code",
   "execution_count": 21,
   "id": "4e3cf6df-5428-4064-99fb-e2993426f53e",
   "metadata": {},
   "outputs": [
    {
     "data": {
      "text/html": [
       "<div>\n",
       "<style scoped>\n",
       "    .dataframe tbody tr th:only-of-type {\n",
       "        vertical-align: middle;\n",
       "    }\n",
       "\n",
       "    .dataframe tbody tr th {\n",
       "        vertical-align: top;\n",
       "    }\n",
       "\n",
       "    .dataframe thead th {\n",
       "        text-align: right;\n",
       "    }\n",
       "</style>\n",
       "<table border=\"1\" class=\"dataframe\">\n",
       "  <thead>\n",
       "    <tr style=\"text-align: right;\">\n",
       "      <th></th>\n",
       "      <th>A</th>\n",
       "      <th>B</th>\n",
       "      <th>C</th>\n",
       "      <th>D</th>\n",
       "      <th>E</th>\n",
       "      <th>F</th>\n",
       "      <th>G</th>\n",
       "      <th>H</th>\n",
       "      <th>I</th>\n",
       "      <th>J</th>\n",
       "      <th>K</th>\n",
       "      <th>L</th>\n",
       "      <th>M</th>\n",
       "      <th>N</th>\n",
       "      <th>O</th>\n",
       "      <th>P</th>\n",
       "    </tr>\n",
       "  </thead>\n",
       "  <tbody>\n",
       "    <tr>\n",
       "      <th>0</th>\n",
       "      <td>28395.0</td>\n",
       "      <td>610.291</td>\n",
       "      <td>208.17812</td>\n",
       "      <td>173.88875</td>\n",
       "      <td>1.197191</td>\n",
       "      <td>0.549812</td>\n",
       "      <td>28715.0</td>\n",
       "      <td>190.14110</td>\n",
       "      <td>0.763923</td>\n",
       "      <td>0.988856</td>\n",
       "      <td>0.958027</td>\n",
       "      <td>0.913358</td>\n",
       "      <td>0.007332</td>\n",
       "      <td>0.003147</td>\n",
       "      <td>0.834222</td>\n",
       "      <td>0.998724</td>\n",
       "    </tr>\n",
       "    <tr>\n",
       "      <th>1</th>\n",
       "      <td>28734.0</td>\n",
       "      <td>638.018</td>\n",
       "      <td>200.52480</td>\n",
       "      <td>182.73442</td>\n",
       "      <td>1.097357</td>\n",
       "      <td>0.411785</td>\n",
       "      <td>29172.0</td>\n",
       "      <td>191.27275</td>\n",
       "      <td>0.783968</td>\n",
       "      <td>0.984986</td>\n",
       "      <td>0.887034</td>\n",
       "      <td>0.953861</td>\n",
       "      <td>0.006979</td>\n",
       "      <td>0.003564</td>\n",
       "      <td>0.909851</td>\n",
       "      <td>0.998430</td>\n",
       "    </tr>\n",
       "    <tr>\n",
       "      <th>2</th>\n",
       "      <td>31091.0</td>\n",
       "      <td>638.558</td>\n",
       "      <td>210.48625</td>\n",
       "      <td>188.32685</td>\n",
       "      <td>1.117665</td>\n",
       "      <td>0.446622</td>\n",
       "      <td>31458.0</td>\n",
       "      <td>198.96304</td>\n",
       "      <td>0.786377</td>\n",
       "      <td>0.988334</td>\n",
       "      <td>0.958173</td>\n",
       "      <td>0.945254</td>\n",
       "      <td>0.006770</td>\n",
       "      <td>0.003334</td>\n",
       "      <td>0.893506</td>\n",
       "      <td>0.998640</td>\n",
       "    </tr>\n",
       "    <tr>\n",
       "      <th>3</th>\n",
       "      <td>31178.0</td>\n",
       "      <td>636.888</td>\n",
       "      <td>212.97593</td>\n",
       "      <td>186.56209</td>\n",
       "      <td>1.141582</td>\n",
       "      <td>0.482352</td>\n",
       "      <td>31520.0</td>\n",
       "      <td>199.24122</td>\n",
       "      <td>0.764110</td>\n",
       "      <td>0.989150</td>\n",
       "      <td>0.965900</td>\n",
       "      <td>0.935511</td>\n",
       "      <td>0.006831</td>\n",
       "      <td>0.003227</td>\n",
       "      <td>0.875180</td>\n",
       "      <td>0.999090</td>\n",
       "    </tr>\n",
       "    <tr>\n",
       "      <th>4</th>\n",
       "      <td>31202.0</td>\n",
       "      <td>644.454</td>\n",
       "      <td>215.64069</td>\n",
       "      <td>184.47168</td>\n",
       "      <td>1.168964</td>\n",
       "      <td>0.517871</td>\n",
       "      <td>31573.0</td>\n",
       "      <td>199.31789</td>\n",
       "      <td>0.779193</td>\n",
       "      <td>0.988249</td>\n",
       "      <td>0.944079</td>\n",
       "      <td>0.924306</td>\n",
       "      <td>0.006911</td>\n",
       "      <td>0.003112</td>\n",
       "      <td>0.854341</td>\n",
       "      <td>0.998693</td>\n",
       "    </tr>\n",
       "  </tbody>\n",
       "</table>\n",
       "</div>"
      ],
      "text/plain": [
       "         A        B          C          D         E         F        G  \\\n",
       "0  28395.0  610.291  208.17812  173.88875  1.197191  0.549812  28715.0   \n",
       "1  28734.0  638.018  200.52480  182.73442  1.097357  0.411785  29172.0   \n",
       "2  31091.0  638.558  210.48625  188.32685  1.117665  0.446622  31458.0   \n",
       "3  31178.0  636.888  212.97593  186.56209  1.141582  0.482352  31520.0   \n",
       "4  31202.0  644.454  215.64069  184.47168  1.168964  0.517871  31573.0   \n",
       "\n",
       "           H         I         J         K         L         M         N  \\\n",
       "0  190.14110  0.763923  0.988856  0.958027  0.913358  0.007332  0.003147   \n",
       "1  191.27275  0.783968  0.984986  0.887034  0.953861  0.006979  0.003564   \n",
       "2  198.96304  0.786377  0.988334  0.958173  0.945254  0.006770  0.003334   \n",
       "3  199.24122  0.764110  0.989150  0.965900  0.935511  0.006831  0.003227   \n",
       "4  199.31789  0.779193  0.988249  0.944079  0.924306  0.006911  0.003112   \n",
       "\n",
       "          O         P  \n",
       "0  0.834222  0.998724  \n",
       "1  0.909851  0.998430  \n",
       "2  0.893506  0.998640  \n",
       "3  0.875180  0.999090  \n",
       "4  0.854341  0.998693  "
      ]
     },
     "execution_count": 21,
     "metadata": {},
     "output_type": "execute_result"
    }
   ],
   "source": [
    "data_labeled2 = xtest_final.copy()\n",
    "data_labeled2.columns = [\"A\", \"B\", \"C\", \"D\", \"E\", \"F\", \"G\", \"H\", \"I\", \"J\", \"K\", \"L\", \"M\",  \"N\", \"O\", \"P\"]\n",
    "data_labeled2.head()"
   ]
  },
  {
   "cell_type": "code",
   "execution_count": 22,
   "id": "5e36b403-82a1-4b48-bfee-bb7386baf559",
   "metadata": {},
   "outputs": [],
   "source": [
    "for col in data_labeled2.columns:\n",
    "    data_labeled2[col] = data_labeled2[col]\n",
    "    data_labeled2 = get_category(data_labeled2,col, 5, [\"lowest\",\"low\",\"medium\",\"high\",\"highest\"])\n",
    "    col_name = 'gp_' + col\n",
    "    data_labeled2 = convert_dummy(data_labeled2,col_name)\n",
    "\n",
    "xtest_final = data_labeled2[descriptores]"
   ]
  },
  {
   "cell_type": "markdown",
   "id": "a1ae8e36-9b70-49a3-b774-fb3bf374e689",
   "metadata": {},
   "source": [
    "### Predicción final"
   ]
  },
  {
   "cell_type": "code",
   "execution_count": 23,
   "id": "d572892f-97bf-4c8a-91f7-fdca7f7536a1",
   "metadata": {},
   "outputs": [
    {
     "data": {
      "text/plain": [
       "array([0., 0., 1., ..., 0., 0., 0.])"
      ]
     },
     "execution_count": 23,
     "metadata": {},
     "output_type": "execute_result"
    }
   ],
   "source": [
    "model = MLPClassifier( hidden_layer_sizes=(6, 4), activation='tanh', solver='adam')\n",
    "model.fit( xtrain_iv, ytrain )\n",
    "y_predict_final = model.predict( xtest_final )\n",
    "y_predict_final"
   ]
  },
  {
   "cell_type": "code",
   "execution_count": 27,
   "id": "2346cd92-f0ae-4289-ac8d-f65111147e59",
   "metadata": {},
   "outputs": [],
   "source": [
    "np.savetxt('ypredict.txt', y_predict_final, fmt='%d')"
   ]
  }
 ],
 "metadata": {
  "kernelspec": {
   "display_name": "Python 3 (ipykernel)",
   "language": "python",
   "name": "python3"
  },
  "language_info": {
   "codemirror_mode": {
    "name": "ipython",
    "version": 3
   },
   "file_extension": ".py",
   "mimetype": "text/x-python",
   "name": "python",
   "nbconvert_exporter": "python",
   "pygments_lexer": "ipython3",
   "version": "3.9.7"
  }
 },
 "nbformat": 4,
 "nbformat_minor": 5
}
