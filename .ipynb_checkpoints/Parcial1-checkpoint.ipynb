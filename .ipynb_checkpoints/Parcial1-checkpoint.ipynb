{
 "cells": [
  {
   "cell_type": "markdown",
   "id": "d64cde3d-aff0-47bb-903b-e88eb86a64a1",
   "metadata": {},
   "source": [
    "# Parcial 1 Machine Learning. Binary Classifier."
   ]
  },
  {
   "cell_type": "markdown",
   "id": "20a2f283-bc54-4b55-8e43-db421e429bc8",
   "metadata": {
    "tags": []
   },
   "source": [
    "## Funciones y librerias"
   ]
  },
  {
   "cell_type": "code",
   "execution_count": 1,
   "id": "487561bd-eaa7-4115-bd33-d0aabeb3d150",
   "metadata": {},
   "outputs": [],
   "source": [
    "import pandas as pd\n",
    "import numpy as np\n",
    "\n",
    "import warnings\n",
    "warnings.filterwarnings('ignore')\n",
    "\n",
    "from sklearn.model_selection import train_test_split\n",
    "from sklearn.preprocessing import StandardScaler\n",
    "\n",
    "from sklearn.metrics import accuracy_score, confusion_matrix"
   ]
  },
  {
   "cell_type": "markdown",
   "id": "cd54097a-3ff3-4374-8a33-4fe408db2429",
   "metadata": {},
   "source": [
    "## Preprocesamiento"
   ]
  },
  {
   "cell_type": "code",
   "execution_count": 2,
   "id": "24c990e7-662e-4a02-962b-c51b34db3a8e",
   "metadata": {},
   "outputs": [],
   "source": [
    "# Se obtienen los datos de los archivos de texto plano\n",
    "xtrain = pd.read_csv(\"datos/xtrain.txt\", sep=\"   \", header=None, engine='python')\n",
    "ytrain = pd.read_csv(\"datos/ytrain.txt\", sep=\"   \", header=None, engine='python')\n",
    "xtest = pd.read_csv(\"datos/xtest.txt\", sep=\"   \", header=None, engine='python')"
   ]
  },
  {
   "cell_type": "code",
   "execution_count": 3,
   "id": "be9b5068-6830-403a-b44b-1b22b9de25c9",
   "metadata": {},
   "outputs": [
    {
     "data": {
      "text/html": [
       "<div>\n",
       "<style scoped>\n",
       "    .dataframe tbody tr th:only-of-type {\n",
       "        vertical-align: middle;\n",
       "    }\n",
       "\n",
       "    .dataframe tbody tr th {\n",
       "        vertical-align: top;\n",
       "    }\n",
       "\n",
       "    .dataframe thead th {\n",
       "        text-align: right;\n",
       "    }\n",
       "</style>\n",
       "<table border=\"1\" class=\"dataframe\">\n",
       "  <thead>\n",
       "    <tr style=\"text-align: right;\">\n",
       "      <th></th>\n",
       "      <th>A</th>\n",
       "      <th>B</th>\n",
       "      <th>C</th>\n",
       "      <th>D</th>\n",
       "      <th>E</th>\n",
       "      <th>F</th>\n",
       "      <th>G</th>\n",
       "      <th>H</th>\n",
       "      <th>I</th>\n",
       "      <th>J</th>\n",
       "      <th>K</th>\n",
       "      <th>L</th>\n",
       "      <th>M</th>\n",
       "      <th>N</th>\n",
       "      <th>O</th>\n",
       "      <th>P</th>\n",
       "      <th>class</th>\n",
       "    </tr>\n",
       "  </thead>\n",
       "  <tbody>\n",
       "    <tr>\n",
       "      <th>0</th>\n",
       "      <td>40572.0</td>\n",
       "      <td>725.331</td>\n",
       "      <td>250.71401</td>\n",
       "      <td>206.47193</td>\n",
       "      <td>1.214276</td>\n",
       "      <td>0.567264</td>\n",
       "      <td>40900.0</td>\n",
       "      <td>227.28369</td>\n",
       "      <td>0.767479</td>\n",
       "      <td>0.991980</td>\n",
       "      <td>0.969089</td>\n",
       "      <td>0.906546</td>\n",
       "      <td>0.006179</td>\n",
       "      <td>0.002574</td>\n",
       "      <td>0.821825</td>\n",
       "      <td>0.997923</td>\n",
       "      <td>1.0</td>\n",
       "    </tr>\n",
       "    <tr>\n",
       "      <th>1</th>\n",
       "      <td>38180.0</td>\n",
       "      <td>740.017</td>\n",
       "      <td>272.92339</td>\n",
       "      <td>178.76282</td>\n",
       "      <td>1.526735</td>\n",
       "      <td>0.755635</td>\n",
       "      <td>38709.0</td>\n",
       "      <td>220.48194</td>\n",
       "      <td>0.718669</td>\n",
       "      <td>0.986334</td>\n",
       "      <td>0.876118</td>\n",
       "      <td>0.807853</td>\n",
       "      <td>0.007148</td>\n",
       "      <td>0.001878</td>\n",
       "      <td>0.652626</td>\n",
       "      <td>0.996387</td>\n",
       "      <td>0.0</td>\n",
       "    </tr>\n",
       "    <tr>\n",
       "      <th>2</th>\n",
       "      <td>46827.0</td>\n",
       "      <td>808.608</td>\n",
       "      <td>300.96747</td>\n",
       "      <td>198.95893</td>\n",
       "      <td>1.512712</td>\n",
       "      <td>0.750329</td>\n",
       "      <td>47295.0</td>\n",
       "      <td>244.17614</td>\n",
       "      <td>0.781766</td>\n",
       "      <td>0.990105</td>\n",
       "      <td>0.899974</td>\n",
       "      <td>0.811304</td>\n",
       "      <td>0.006427</td>\n",
       "      <td>0.001718</td>\n",
       "      <td>0.658214</td>\n",
       "      <td>0.995688</td>\n",
       "      <td>0.0</td>\n",
       "    </tr>\n",
       "    <tr>\n",
       "      <th>3</th>\n",
       "      <td>72058.0</td>\n",
       "      <td>1035.943</td>\n",
       "      <td>397.71702</td>\n",
       "      <td>233.41022</td>\n",
       "      <td>1.703940</td>\n",
       "      <td>0.809677</td>\n",
       "      <td>73724.0</td>\n",
       "      <td>302.89783</td>\n",
       "      <td>0.764541</td>\n",
       "      <td>0.977402</td>\n",
       "      <td>0.843763</td>\n",
       "      <td>0.761591</td>\n",
       "      <td>0.005519</td>\n",
       "      <td>0.001145</td>\n",
       "      <td>0.580021</td>\n",
       "      <td>0.988322</td>\n",
       "      <td>1.0</td>\n",
       "    </tr>\n",
       "    <tr>\n",
       "      <th>4</th>\n",
       "      <td>80886.0</td>\n",
       "      <td>1136.801</td>\n",
       "      <td>391.65449</td>\n",
       "      <td>263.80113</td>\n",
       "      <td>1.484658</td>\n",
       "      <td>0.739136</td>\n",
       "      <td>82299.0</td>\n",
       "      <td>320.91627</td>\n",
       "      <td>0.719492</td>\n",
       "      <td>0.982831</td>\n",
       "      <td>0.786528</td>\n",
       "      <td>0.819386</td>\n",
       "      <td>0.004842</td>\n",
       "      <td>0.001346</td>\n",
       "      <td>0.671394</td>\n",
       "      <td>0.996790</td>\n",
       "      <td>1.0</td>\n",
       "    </tr>\n",
       "  </tbody>\n",
       "</table>\n",
       "</div>"
      ],
      "text/plain": [
       "         A         B          C          D         E         F        G  \\\n",
       "0  40572.0   725.331  250.71401  206.47193  1.214276  0.567264  40900.0   \n",
       "1  38180.0   740.017  272.92339  178.76282  1.526735  0.755635  38709.0   \n",
       "2  46827.0   808.608  300.96747  198.95893  1.512712  0.750329  47295.0   \n",
       "3  72058.0  1035.943  397.71702  233.41022  1.703940  0.809677  73724.0   \n",
       "4  80886.0  1136.801  391.65449  263.80113  1.484658  0.739136  82299.0   \n",
       "\n",
       "           H         I         J         K         L         M         N  \\\n",
       "0  227.28369  0.767479  0.991980  0.969089  0.906546  0.006179  0.002574   \n",
       "1  220.48194  0.718669  0.986334  0.876118  0.807853  0.007148  0.001878   \n",
       "2  244.17614  0.781766  0.990105  0.899974  0.811304  0.006427  0.001718   \n",
       "3  302.89783  0.764541  0.977402  0.843763  0.761591  0.005519  0.001145   \n",
       "4  320.91627  0.719492  0.982831  0.786528  0.819386  0.004842  0.001346   \n",
       "\n",
       "          O         P  class  \n",
       "0  0.821825  0.997923    1.0  \n",
       "1  0.652626  0.996387    0.0  \n",
       "2  0.658214  0.995688    0.0  \n",
       "3  0.580021  0.988322    1.0  \n",
       "4  0.671394  0.996790    1.0  "
      ]
     },
     "execution_count": 3,
     "metadata": {},
     "output_type": "execute_result"
    }
   ],
   "source": [
    "# Creo un dataframe donde agrego la etiqueta de cada dato\n",
    "data_labeled = xtrain\n",
    "data_labeled.columns = [\"A\", \"B\", \"C\", \"D\", \"E\", \"F\", \"G\", \"H\", \"I\", \"J\", \"K\", \"L\", \"M\",  \"N\", \"O\", \"P\"]\n",
    "data_labeled[\"class\"] = ytrain\n",
    "data_labeled.head()"
   ]
  },
  {
   "cell_type": "code",
   "execution_count": 4,
   "id": "b0eca12a-25f7-49da-bb49-77f1d937027e",
   "metadata": {},
   "outputs": [
    {
     "name": "stdout",
     "output_type": "stream",
     "text": [
      "[-0.  0. -0.  0.  0. -0.  0. -0. -0.  0.  0.  0. -0. -0. -0. -0. -0.]\n",
      "[1. 1. 1. 1. 1. 1. 1. 1. 1. 1. 1. 1. 1. 1. 1. 1. 1.]\n"
     ]
    }
   ],
   "source": [
    "# Normalización de los datos\n",
    "scaler = StandardScaler()\n",
    "scaler.fit(xtrain)\n",
    "xtrain_scaled = scaler.transform(xtrain)\n",
    "\n",
    "# Una vez normalizados, los datos ahora tienen una media de 0 y una varianza de 1.\n",
    "print(np.round(xtrain_scaled.mean(axis=0),2))\n",
    "print(xtrain_scaled.std(axis=0)) "
   ]
  },
  {
   "cell_type": "code",
   "execution_count": 5,
   "id": "8d2de769-e2e7-4e4f-bd4c-8924cef7d02f",
   "metadata": {},
   "outputs": [],
   "source": [
    "# Separación de los datos en datos de entramiento y prueba\n",
    "X_train, X_test, y_train, y_test = train_test_split(xtrain_scaled, ytrain, test_size=0.3, random_state=31)\n",
    "X_test, X_predict, y_test, y_predict = train_test_split(X_test, y_test, test_size=0.1, random_state=31)"
   ]
  },
  {
   "cell_type": "code",
   "execution_count": 6,
   "id": "d9b9088a-24b5-40f7-9c1c-0f9323aee65c",
   "metadata": {},
   "outputs": [
    {
     "data": {
      "text/plain": [
       "(6300, 17)"
      ]
     },
     "execution_count": 6,
     "metadata": {},
     "output_type": "execute_result"
    }
   ],
   "source": [
    "X_train.shape # Verifico la dimensión de mis datos"
   ]
  },
  {
   "cell_type": "markdown",
   "id": "8e69b028-23b6-47bb-8d5c-1bbf57262300",
   "metadata": {},
   "source": [
    "## Funciones auxiliares"
   ]
  },
  {
   "cell_type": "code",
   "execution_count": 7,
   "id": "ebd0b997-827f-4e95-acdb-e1ba6e0e2ce8",
   "metadata": {},
   "outputs": [],
   "source": [
    "## Calculo de los IV (Funcion sacada de https://www.kaggle.com/code/puremath86/iv-woe-starter-for-python/notebook)\n",
    "def calc_iv(df, feature, target, pr=False):\n",
    "    lst = []\n",
    "    df[feature] = df[feature].fillna(\"NULL\")\n",
    "\n",
    "    for i in range(df[feature].nunique()):\n",
    "        val = list(df[feature].unique())[i]\n",
    "        lst.append([feature,                                                        # Variable\n",
    "                    val,                                                            # Value\n",
    "                    df[df[feature] == val].count()[feature],                        # All\n",
    "                    df[(df[feature] == val) & (df[target] == 0)].count()[feature],  # Good (think: Fraud == 0)\n",
    "                    df[(df[feature] == val) & (df[target] == 1)].count()[feature]]) # Bad (think: Fraud == 1)\n",
    "\n",
    "    data = pd.DataFrame(lst, columns=['Variable', 'Value', 'All', 'Good', 'Bad'])\n",
    "    data['Share'] = data['All'] / data['All'].sum()\n",
    "    data['Bad Rate'] = data['Bad'] / data['All']\n",
    "    data['Distribution Good'] = (data['All'] - data['Bad']) / (data['All'].sum() - data['Bad'].sum())\n",
    "    data['Distribution Bad'] = data['Bad'] / data['Bad'].sum()\n",
    "    data['WoE'] = np.log(data['Distribution Good'] / data['Distribution Bad'])\n",
    "    \n",
    "    data = data.replace({'WoE': {np.inf: 0, -np.inf: 0}})\n",
    "\n",
    "    data['IV'] = data['WoE'] * (data['Distribution Good'] - data['Distribution Bad'])\n",
    "\n",
    "    data = data.sort_values(by=['Variable', 'Value'], ascending=[True, True])\n",
    "    data.index = range(len(data.index))\n",
    "\n",
    "    if pr:\n",
    "        print(data)\n",
    "        print('IV = ', data['IV'].sum())\n",
    "\n",
    "    iv = data['IV'].sum()\n",
    "    #print('El IV de esta variable es:',iv)\n",
    "    #print(df[feature].value_counts())\n",
    "    return iv, data"
   ]
  },
  {
   "cell_type": "code",
   "execution_count": null,
   "id": "ff877bc1-9fdf-4188-bea3-1d50d45c595c",
   "metadata": {},
   "outputs": [
    {
     "name": "stdout",
     "output_type": "stream",
     "text": [
      "El IV de esta variable es: 0.003231748840559598\n",
      "47134.0     4\n",
      "44710.0     4\n",
      "38426.0     4\n",
      "40504.0     3\n",
      "48396.0     3\n",
      "           ..\n",
      "54313.0     1\n",
      "172746.0    1\n",
      "51015.0     1\n",
      "72756.0     1\n",
      "41248.0     1\n",
      "Name: A, Length: 8269, dtype: int64\n",
      "El IV de esta variable es: 0.00030686472769471135\n",
      "805.168    3\n",
      "984.123    3\n",
      "911.589    3\n",
      "896.732    2\n",
      "924.848    2\n",
      "          ..\n",
      "796.996    1\n",
      "660.614    1\n",
      "659.434    1\n",
      "935.660    1\n",
      "750.674    1\n",
      "Name: B, Length: 8863, dtype: int64\n"
     ]
    }
   ],
   "source": [
    "IVs = {}\n",
    "for col in data_labeled.columns:\n",
    "    if col != \"class\":\n",
    "        iv, data = calc_iv(xtrain, col, 'class')\n",
    "        IVs[col] = iv"
   ]
  },
  {
   "cell_type": "code",
   "execution_count": null,
   "id": "484b03a4-cd4f-47ca-9bf1-a14995f48738",
   "metadata": {},
   "outputs": [],
   "source": [
    "IVs"
   ]
  }
 ],
 "metadata": {
  "kernelspec": {
   "display_name": "Python 3 (ipykernel)",
   "language": "python",
   "name": "python3"
  },
  "language_info": {
   "codemirror_mode": {
    "name": "ipython",
    "version": 3
   },
   "file_extension": ".py",
   "mimetype": "text/x-python",
   "name": "python",
   "nbconvert_exporter": "python",
   "pygments_lexer": "ipython3",
   "version": "3.9.7"
  }
 },
 "nbformat": 4,
 "nbformat_minor": 5
}
